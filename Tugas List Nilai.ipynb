{
 "cells": [
  {
   "cell_type": "markdown",
   "metadata": {},
   "source": [
    "# LATIHAN 2 - Tugas List Nilai\n",
    "Diberikan sekumpulan Nilai Random antara 0 sampai dengan 100 sebanyak 250 nilai. Buatlah program untuk melakukan hal berikut:\n",
    "\n",
    "1. Tampilkan Angka Ganjil dari ke 250 nilai tersebut\n",
    "2. Tampilkan berapa banyak yang mendapatkan nilai lebih dari 70\n",
    "3. Tampilkan standar deviasi dari sekumpulan nilai tersebut\n",
    "4. Tampilkan nilai maksimum dan minimum\n",
    "5. Tampilkan modus dari sekumpulan nilai tersebut"
   ]
  },
  {
   "cell_type": "code",
   "execution_count": 7,
   "metadata": {},
   "outputs": [
    {
     "name": "stdout",
     "output_type": "stream",
     "text": [
      "[80, 27, 21, 73, 1, 7, 61, 53, 38, 69, 91, 53, 64, 80, 89, 49, 7, 63, 77, 7, 78, 93, 69, 25, 93, 90, 7, 7, 51, 93, 44, 36, 55, 14, 23, 30, 10, 98, 59, 61, 88, 54, 13, 74, 70, 56, 8, 26, 28, 60, 92, 55, 56, 15, 25, 19, 46, 54, 92, 62, 77, 52, 88, 39, 56, 1, 96, 2, 12, 39, 30, 76, 17, 94, 50, 46, 96, 29, 55, 77, 29, 63, 73, 4, 3, 82, 58, 77, 62, 94, 71, 18, 53, 73, 94, 15, 63, 60, 97, 62, 69, 50, 69, 31, 66, 81, 14, 90, 21, 27, 43, 55, 8, 38, 38, 34, 49, 91, 46, 69, 49, 48, 84, 44, 86, 16, 69, 37, 10, 29, 59, 69, 53, 93, 61, 22, 64, 70, 47, 3, 37, 19, 70, 35, 60, 22, 81, 32, 47, 32, 42, 99, 33, 96, 4, 69, 20, 19, 25, 90, 77, 24, 70, 39, 12, 87, 14, 59, 63, 49, 85, 43, 84, 44, 53, 36, 64, 25, 63, 31, 92, 93, 57, 92, 39, 80, 13, 99, 62, 62, 30, 77, 20, 20, 44, 14, 5, 85, 96, 83, 76, 87, 69, 39, 13, 62, 26, 8, 72, 71, 50, 58, 18, 76, 41, 19, 54, 71, 73, 20, 53, 63, 87, 22, 19, 79, 36, 64, 23, 94, 72, 52, 11, 68, 7, 99, 4, 66, 17, 20, 29, 7, 48, 75, 88, 2, 48, 28, 17, 52]\n"
     ]
    }
   ],
   "source": [
    "import random\n",
    "\n",
    "# GENERATE RANDOM\n",
    "nilaiTugas = []\n",
    "for i in range(250):\n",
    "    nilaiTugas.append(random.randrange(1,100,1))\n",
    "    \n",
    "print(nilaiTugas)"
   ]
  },
  {
   "cell_type": "code",
   "execution_count": 8,
   "metadata": {
    "scrolled": true
   },
   "outputs": [
    {
     "name": "stdout",
     "output_type": "stream",
     "text": [
      "[27, 21, 73, 1, 7, 61, 53, 69, 91, 53, 89, 49, 7, 63, 77, 7, 93, 69, 25, 93, 7, 7, 51, 93, 55, 23, 59, 61, 13, 55, 15, 25, 19, 77, 39, 1, 39, 17, 29, 55, 77, 29, 63, 73, 3, 77, 71, 53, 73, 15, 63, 97, 69, 69, 31, 81, 21, 27, 43, 55, 49, 91, 69, 49, 69, 37, 29, 59, 69, 53, 93, 61, 47, 3, 37, 19, 35, 81, 47, 99, 33, 69, 19, 25, 77, 39, 87, 59, 63, 49, 85, 43, 53, 25, 63, 31, 93, 57, 39, 13, 99, 77, 5, 85, 83, 87, 69, 39, 13, 71, 41, 19, 71, 73, 53, 63, 87, 19, 79, 23, 11, 7, 99, 17, 29, 7, 75, 17]\n"
     ]
    }
   ],
   "source": [
    "# Menampilkan nilai ganjil\n",
    "nilaiGanjil = []\n",
    "\n",
    "for n in nilaiTugas:\n",
    "    if n%2!=0:\n",
    "        nilaiGanjil = nilaiGanjil + [n]\n",
    "        \n",
    "print(nilaiGanjil)"
   ]
  },
  {
   "cell_type": "code",
   "execution_count": 9,
   "metadata": {},
   "outputs": [
    {
     "name": "stdout",
     "output_type": "stream",
     "text": [
      "68\n"
     ]
    }
   ],
   "source": [
    "# Menampilkan jumlah nilai > 70\n",
    "nilai70 = []\n",
    "\n",
    "for n in nilaiTugas:\n",
    "    if n>70:\n",
    "        nilai70 = nilai70 + [n]\n",
    "        \n",
    "print(len(nilai70))"
   ]
  },
  {
   "cell_type": "code",
   "execution_count": 10,
   "metadata": {},
   "outputs": [
    {
     "name": "stdout",
     "output_type": "stream",
     "text": [
      "27.808017261214445\n"
     ]
    }
   ],
   "source": [
    "# Menampilkan standar deviasi\n",
    "\n",
    "# Menghitung rata-rata\n",
    "totalNilai = 0\n",
    "\n",
    "for n in nilaiTugas:\n",
    "    totalNilai = totalNilai + n\n",
    "    \n",
    "rata = totalNilai/len(nilaiTugas)\n",
    "\n",
    "# Menghitung standar deviasi\n",
<<<<<<< HEAD
    "m = 0\n",
=======
    "\n",
>>>>>>> c499f9e78f62e85556ff11c1cbb7cbf7eb2ada85
    "for n in nilaiTugas:\n",
    "    m = m + (n-rata)**2\n",
    "    \n",
    "stdDev = (m/len(nilaiTugas))**0.5\n",
    "print(stdDev)"
   ]
  },
  {
   "cell_type": "code",
   "execution_count": 11,
   "metadata": {},
   "outputs": [
    {
     "name": "stdout",
     "output_type": "stream",
     "text": [
      "1\n",
      "99\n"
     ]
    }
   ],
   "source": [
    "# Menampilkan nilai maksimum dan minimum\n",
    "\n",
    "nilaiMin = 100\n",
    "nilaiMax = 0\n",
    "\n",
    "for n in nilaiTugas:\n",
    "    if n < nilaiMin:\n",
    "        nilaiMin = n\n",
    "        \n",
    "for n in nilaiTugas:\n",
    "    if n > nilaiMax:\n",
    "        nilaiMax = n\n",
    "        \n",
    "print(nilaiMin)\n",
    "print(nilaiMax)"
   ]
  },
  {
   "cell_type": "code",
   "execution_count": 12,
   "metadata": {
    "scrolled": true
   },
   "outputs": [
    {
     "name": "stdout",
     "output_type": "stream",
     "text": [
      "69\n"
     ]
    }
   ],
   "source": [
    "# Menampilkan modus\n",
    "\n",
    "collection = []\n",
    "freq = {}\n",
    "\n",
    "for n in nilaiTugas:\n",
    "    if n not in collection:\n",
    "        collection = collection + [n]\n",
    "        \n",
    "for n in collection:\n",
    "    x = 0\n",
    "    for m in nilaiTugas:\n",
    "        if n == m:\n",
    "            x = x + 1\n",
    "    freq[n] = x\n",
    "\n",
    "mode = 0\n",
    "x = 0\n",
    "\n",
    "for k,v in freq.items():\n",
    "    if v > x:\n",
    "        x = v\n",
    "        mode = k\n",
    "\n",
    "print(mode)"
   ]
  }
 ],
 "metadata": {
  "kernelspec": {
   "display_name": "Python 3",
   "language": "python",
   "name": "python3"
  },
  "language_info": {
   "codemirror_mode": {
    "name": "ipython",
    "version": 3
   },
   "file_extension": ".py",
   "mimetype": "text/x-python",
   "name": "python",
   "nbconvert_exporter": "python",
   "pygments_lexer": "ipython3",
   "version": "3.7.0"
  }
 },
 "nbformat": 4,
 "nbformat_minor": 2
}
