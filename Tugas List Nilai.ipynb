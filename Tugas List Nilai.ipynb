{
 "cells": [
  {
   "cell_type": "markdown",
   "metadata": {},
   "source": [
    "# LATIHAN 2 - Tugas List Nilai\n",
    "Diberikan sekumpulan Nilai Random antara 0 sampai dengan 100 sebanyak 250 nilai. Buatlah program untuk melakukan hal berikut:\n",
    "\n",
    "1. Tampilkan Angka Ganjil dari ke 250 nilai tersebut\n",
    "2. Tampilkan berapa banyak yang mendapatkan nilai lebih dari 70\n",
    "3. Tampilkan standar deviasi dari sekumpulan nilai tersebut\n",
    "4. Tampilkan nilai maksimum dan minimum\n",
    "5. Tampilkan modus dari sekumpulan nilai tersebut"
   ]
  },
  {
   "cell_type": "code",
   "execution_count": 2,
   "metadata": {},
   "outputs": [
    {
     "name": "stdout",
     "output_type": "stream",
     "text": [
      "[64, 62, 82, 80, 29, 95, 92, 65, 62, 23, 29, 97, 96, 48, 21, 60, 29, 91, 26, 74, 25, 71, 26, 58, 65, 66, 48, 88, 27, 77, 25, 49, 26, 3, 17, 84, 17, 91, 3, 52, 54, 47, 41, 74, 8, 25, 90, 51, 38, 23, 6, 88, 36, 93, 39, 91, 52, 20, 16, 64, 19, 82, 28, 75, 51, 12, 94, 24, 42, 24, 2, 68, 27, 79, 75, 79, 24, 91, 12, 43, 87, 91, 60, 39, 95, 1, 88, 3, 62, 41, 43, 97, 9, 5, 17, 41, 38, 96, 18, 48, 77, 32, 91, 67, 44, 61, 86, 61, 73, 12, 15, 28, 95, 44, 88, 12, 20, 46, 83, 20, 80, 1, 22, 6, 74, 81, 54, 78, 67, 63, 10, 89, 14, 61, 90, 44, 32, 52, 56, 65, 59, 72, 53, 66, 19, 24, 15, 16, 75, 98, 56, 20, 45, 75, 85, 27, 58, 8, 75, 31, 96, 23, 2, 42, 60, 81, 58, 94, 98, 81, 66, 32, 6, 20, 54, 18, 91, 42, 3, 52, 14, 99, 89, 32, 23, 51, 23, 55, 37, 54, 66, 33, 85, 80, 33, 67, 92, 11, 39, 30, 98, 38, 64, 89, 84, 7, 98, 76, 25, 20, 40, 36, 23, 57, 79, 43, 68, 74, 87, 9, 79, 76, 28, 12, 58, 78, 29, 15, 85, 91, 5, 8, 81, 79, 53, 94, 45, 62, 16, 79, 3, 52, 79, 1, 89, 70, 45, 26, 58, 15]\n"
     ]
    }
   ],
   "source": [
    "import random\n",
    "\n",
    "# GENERATE RANDOM\n",
    "nilaiTugas = []\n",
    "for i in range(250):\n",
    "    nilaiTugas.append(random.randrange(1,100,1))\n",
    "    \n",
    "print(nilaiTugas)"
   ]
  },
  {
   "cell_type": "code",
   "execution_count": 3,
   "metadata": {
    "scrolled": true
   },
   "outputs": [
    {
     "name": "stdout",
     "output_type": "stream",
     "text": [
      "[29, 95, 65, 23, 29, 97, 21, 29, 91, 25, 71, 65, 27, 77, 25, 49, 3, 17, 17, 91, 3, 47, 41, 25, 51, 23, 93, 39, 91, 19, 75, 51, 27, 79, 75, 79, 91, 43, 87, 91, 39, 95, 1, 3, 41, 43, 97, 9, 5, 17, 41, 77, 91, 67, 61, 61, 73, 15, 95, 83, 1, 81, 67, 63, 89, 61, 65, 59, 53, 19, 15, 75, 45, 75, 85, 27, 75, 31, 23, 81, 81, 91, 3, 99, 89, 23, 51, 23, 55, 37, 33, 85, 33, 67, 11, 39, 89, 7, 25, 23, 57, 79, 43, 87, 9, 79, 29, 15, 85, 91, 5, 81, 79, 53, 45, 79, 3, 79, 1, 89, 45, 15]\n"
     ]
    }
   ],
   "source": [
    "# Menampilkan nilai ganjil\n",
    "nilaiGanjil = []\n",
    "\n",
    "for n in nilaiTugas:\n",
    "    if n%2!=0:\n",
    "        nilaiGanjil = nilaiGanjil + [n]\n",
    "        \n",
    "print(nilaiGanjil)"
   ]
  },
  {
   "cell_type": "code",
   "execution_count": 4,
   "metadata": {},
   "outputs": [
    {
     "name": "stdout",
     "output_type": "stream",
     "text": [
      "80\n"
     ]
    }
   ],
   "source": [
    "# Menampilkan jumlah nilai > 70\n",
    "nilai70 = []\n",
    "\n",
    "for n in nilaiTugas:\n",
    "    if n>70:\n",
    "        nilai70 = nilai70 + [n]\n",
    "        \n",
    "print(len(nilai70))"
   ]
  },
  {
   "cell_type": "code",
   "execution_count": 5,
   "metadata": {},
   "outputs": [
    {
     "ename": "NameError",
     "evalue": "name 'm' is not defined",
     "output_type": "error",
     "traceback": [
      "\u001b[1;31m---------------------------------------------------------------------------\u001b[0m",
      "\u001b[1;31mNameError\u001b[0m                                 Traceback (most recent call last)",
      "\u001b[1;32m<ipython-input-5-99813242f66f>\u001b[0m in \u001b[0;36m<module>\u001b[1;34m()\u001b[0m\n\u001b[0;32m     13\u001b[0m \u001b[1;31m# Menghitung standar deviasi\u001b[0m\u001b[1;33m\u001b[0m\u001b[1;33m\u001b[0m\u001b[0m\n\u001b[0;32m     14\u001b[0m \u001b[1;32mfor\u001b[0m \u001b[0mn\u001b[0m \u001b[1;32min\u001b[0m \u001b[0mnilaiTugas\u001b[0m\u001b[1;33m:\u001b[0m\u001b[1;33m\u001b[0m\u001b[0m\n\u001b[1;32m---> 15\u001b[1;33m     \u001b[0mm\u001b[0m \u001b[1;33m=\u001b[0m \u001b[0mm\u001b[0m \u001b[1;33m+\u001b[0m \u001b[1;33m(\u001b[0m\u001b[0mn\u001b[0m\u001b[1;33m-\u001b[0m\u001b[0mrata\u001b[0m\u001b[1;33m)\u001b[0m\u001b[1;33m**\u001b[0m\u001b[1;36m2\u001b[0m\u001b[1;33m\u001b[0m\u001b[0m\n\u001b[0m\u001b[0;32m     16\u001b[0m \u001b[1;33m\u001b[0m\u001b[0m\n\u001b[0;32m     17\u001b[0m \u001b[0mstdDev\u001b[0m \u001b[1;33m=\u001b[0m \u001b[1;33m(\u001b[0m\u001b[0mm\u001b[0m\u001b[1;33m/\u001b[0m\u001b[0mlen\u001b[0m\u001b[1;33m(\u001b[0m\u001b[0mnilaiTugas\u001b[0m\u001b[1;33m)\u001b[0m\u001b[1;33m)\u001b[0m\u001b[1;33m**\u001b[0m\u001b[1;36m0.5\u001b[0m\u001b[1;33m\u001b[0m\u001b[0m\n",
      "\u001b[1;31mNameError\u001b[0m: name 'm' is not defined"
     ]
    }
   ],
   "source": [
    "# Menampilkan standar deviasi\n",
    "\n",
    "import math\n",
    "\n",
    "# Menghitung rata-rata\n",
    "totalNilai = 0\n",
    "\n",
    "for n in nilaiTugas:\n",
    "    totalNilai = totalNilai + n\n",
    "    \n",
    "rata = totalNilai/len(nilaiTugas)\n",
    "\n",
    "# Menghitung standar deviasi\n",
    "for n in nilaiTugas:\n",
    "    m = m + (n-rata)**2\n",
    "    \n",
    "stdDev = (m/len(nilaiTugas))**0.5\n",
    "print(stdDev)"
   ]
  },
  {
   "cell_type": "code",
   "execution_count": null,
   "metadata": {},
   "outputs": [],
   "source": [
    "# Menampilkan nilai maksimum dan minimum\n",
    "\n",
    "nilaiMin = 100\n",
    "nilaiMax = 0\n",
    "\n",
    "for n in nilaiTugas:\n",
    "    if n < nilaiMin:\n",
    "        nilaiMin = n\n",
    "        \n",
    "for n in nilaiTugas:\n",
    "    if n > nilaiMax:\n",
    "        nilaiMax = n\n",
    "        \n",
    "print(nilaiMin)\n",
    "print(nilaiMax)"
   ]
  },
  {
   "cell_type": "code",
   "execution_count": null,
   "metadata": {
    "scrolled": true
   },
   "outputs": [],
   "source": [
    "# Menampilkan modus\n",
    "\n",
    "collection = []\n",
    "freq = {}\n",
    "\n",
    "for n in nilaiTugas:\n",
    "    if n not in collection:\n",
    "        collection = collection + [n]\n",
    "        \n",
    "for n in collection:\n",
    "    x = 0\n",
    "    for m in nilaiTugas:\n",
    "        if n == m:\n",
    "            x = x + 1\n",
    "    freq[n] = x\n",
    "\n",
    "mode = 0\n",
    "x = 0\n",
    "\n",
    "for k,v in freq.items():\n",
    "    if v > x:\n",
    "        x = v\n",
    "        mode = k\n",
    "\n",
    "print(mode)"
   ]
  }
 ],
 "metadata": {
  "kernelspec": {
   "display_name": "Python 3",
   "language": "python",
   "name": "python3"
  },
  "language_info": {
   "codemirror_mode": {
    "name": "ipython",
    "version": 3
   },
   "file_extension": ".py",
   "mimetype": "text/x-python",
   "name": "python",
   "nbconvert_exporter": "python",
   "pygments_lexer": "ipython3",
   "version": "3.7.0"
  }
 },
 "nbformat": 4,
 "nbformat_minor": 2
}
