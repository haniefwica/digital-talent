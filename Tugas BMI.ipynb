{
 "cells": [
  {
   "cell_type": "markdown",
   "metadata": {},
   "source": [
    "# Tugas Penghitungan BMI"
   ]
  },
  {
   "cell_type": "code",
   "execution_count": null,
   "metadata": {
    "scrolled": false
   },
   "outputs": [],
   "source": [
    "weight = float(input('Masukkan berat Anda (dalam KG): '))\n",
    "height = float(input('Masukkan tinggi Anda (dalam CM): '))\n",
    "\n",
    "# Konversi tinggi ke satuan M\n",
    "height = height/100\n",
    "\n",
    "# Penghitungan BMI\n",
    "bmi = weight/height**2\n",
    "\n",
    "# Kategori BMI\n",
    "if bmi < 15:\n",
    "    status = 'Very severely underweight'\n",
    "elif bmi < 16:\n",
    "    status = 'Severely underweight'\n",
    "elif bmi < 18.5:\n",
    "    status = 'Underweight'\n",
    "elif bmi < 25:\n",
    "    status = 'Normal (healthy weight)'\n",
    "elif bmi < 30:\n",
    "    status = 'Overweight'\n",
    "elif bmi < 35:\n",
    "    status = 'Moderately obese'\n",
    "elif bmi < 40:\n",
    "    status = 'Severely obese'\n",
    "else:\n",
    "    status = 'Very severely obese'\n",
    "    \n",
    "# Tampilkan nilai & kategori BMI\n",
    "print()\n",
    "print('BMI Anda adalah:', round(bmi,2), '-', status)"
   ]
  }
 ],
 "metadata": {
  "kernelspec": {
   "display_name": "Python 3",
   "language": "python",
   "name": "python3"
  },
  "language_info": {
   "codemirror_mode": {
    "name": "ipython",
    "version": 3
   },
   "file_extension": ".py",
   "mimetype": "text/x-python",
   "name": "python",
   "nbconvert_exporter": "python",
   "pygments_lexer": "ipython3",
   "version": "3.7.0"
  }
 },
 "nbformat": 4,
 "nbformat_minor": 2
}
