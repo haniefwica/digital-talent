{
 "cells": [
  {
   "cell_type": "markdown",
   "metadata": {},
   "source": [
    "# LATIHAN 2 - Tugas List Nilai\n",
    "Diberikan sekumpulan Nilai Random antara 0 sampai dengan 100 sebanyak 250 nilai. Buatlah program untuk melakukan hal berikut:\n",
    "\n",
    "1. Tampilkan Angka Ganjil dari ke 250 nilai tersebut\n",
    "2. Tampilkan berapa banyak yang mendapatkan nilai lebih dari 70\n",
    "3. Tampilkan standar deviasi dari sekumpulan nilai tersebut\n",
    "4. Tampilkan nilai maksimum dan minimum\n",
    "5. Tampilkan modus dari sekumpulan nilai tersebut"
   ]
  },
  {
   "cell_type": "code",
   "execution_count": 1,
   "metadata": {},
   "outputs": [
    {
     "name": "stdout",
     "output_type": "stream",
     "text": [
      "[52, 34, 96, 46, 12, 49, 32, 95, 86, 98, 36, 29, 39, 59, 21, 16, 96, 94, 58, 28, 78, 8, 58, 30, 46, 55, 6, 14, 18, 49, 80, 56, 72, 13, 45, 54, 54, 61, 61, 88, 62, 79, 28, 1, 88, 72, 40, 51, 65, 9, 27, 69, 14, 92, 80, 94, 42, 3, 37, 5, 88, 35, 74, 49, 39, 14, 10, 60, 30, 87, 3, 4, 79, 73, 29, 67, 98, 5, 5, 75, 62, 28, 37, 95, 72, 40, 82, 73, 27, 17, 69, 32, 85, 51, 54, 45, 50, 33, 42, 34, 75, 56, 76, 97, 83, 31, 49, 77, 42, 48, 57, 53, 84, 27, 25, 80, 37, 95, 14, 10, 56, 64, 50, 90, 57, 71, 77, 11, 46, 66, 82, 42, 6, 9, 40, 78, 9, 42, 1, 44, 40, 50, 18, 37, 55, 3, 4, 26, 86, 28, 37, 67, 41, 91, 48, 8, 94, 66, 14, 92, 62, 4, 30, 39, 82, 77, 6, 25, 92, 54, 8, 25, 13, 8, 20, 14, 47, 24, 16, 58, 14, 49, 63, 49, 35, 60, 94, 4, 39, 10, 94, 74, 64, 15, 23, 87, 85, 75, 87, 22, 37, 5, 69, 89, 68, 78, 61, 94, 67, 83, 73, 53, 86, 42, 60, 69, 23, 19, 5, 2, 9, 85, 93, 63, 50, 91, 61, 56, 67, 36, 86, 28, 68, 15, 78, 63, 65, 33, 46, 19, 91, 36, 63, 27, 10, 88, 93, 38, 99, 78]\n"
     ]
    }
   ],
   "source": [
    "import random\n",
    "\n",
    "# GENERATE RANDOM\n",
    "nilaiTugas = []\n",
    "for i in range(250):\n",
    "    nilaiTugas.append(random.randrange(1,100,1))\n",
    "    \n",
    "print(nilaiTugas)"
   ]
  },
  {
   "cell_type": "code",
   "execution_count": 2,
   "metadata": {
    "scrolled": true
   },
   "outputs": [
    {
     "name": "stdout",
     "output_type": "stream",
     "text": [
      "[49, 95, 29, 39, 59, 21, 55, 49, 13, 45, 61, 61, 79, 1, 51, 65, 9, 27, 69, 3, 37, 5, 35, 49, 39, 87, 3, 79, 73, 29, 67, 5, 5, 75, 37, 95, 73, 27, 17, 69, 85, 51, 45, 33, 75, 97, 83, 31, 49, 77, 57, 53, 27, 25, 37, 95, 57, 71, 77, 11, 9, 9, 1, 37, 55, 3, 37, 67, 41, 91, 39, 77, 25, 25, 13, 47, 49, 63, 49, 35, 39, 15, 23, 87, 85, 75, 87, 37, 5, 69, 89, 61, 67, 83, 73, 53, 69, 23, 19, 5, 9, 85, 93, 63, 91, 61, 67, 15, 63, 65, 33, 19, 91, 63, 27, 93, 99]\n"
     ]
    }
   ],
   "source": [
    "# Menampilkan nilai ganjil\n",
    "nilaiGanjil = []\n",
    "\n",
    "for n in nilaiTugas:\n",
    "    if n%2!=0:\n",
    "        nilaiGanjil = nilaiGanjil + [n]\n",
    "        \n",
    "print(nilaiGanjil)"
   ]
  },
  {
   "cell_type": "code",
   "execution_count": 5,
   "metadata": {},
   "outputs": [
    {
     "name": "stdout",
     "output_type": "stream",
     "text": [
      "71\n"
     ]
    }
   ],
   "source": [
    "# Menampilkan jumlah nilai > 70\n",
    "nilai70 = []\n",
    "\n",
    "for n in nilaiTugas:\n",
    "    if n>70:\n",
    "        nilai70 = nilai70 + [n]\n",
    "        \n",
    "print(len(nilai70))"
   ]
  },
  {
   "cell_type": "code",
   "execution_count": 6,
   "metadata": {},
   "outputs": [
    {
     "name": "stdout",
     "output_type": "stream",
     "text": [
      "28.334168489652193\n"
     ]
    }
   ],
   "source": [
    "# Menampilkan standar deviasi\n",
    "\n",
    "import math\n",
    "\n",
    "# Menghitung rata-rata\n",
    "totalNilai = 0\n",
    "\n",
    "for n in nilaiTugas:\n",
    "    totalNilai = totalNilai + n\n",
    "    \n",
    "rata = totalNilai/len(nilaiTugas)\n",
    "\n",
    "# Menghitung variance\n",
    "selisih = []\n",
    "selisih2 = []\n",
    "totalSelisih2 = 0\n",
    "\n",
    "for n in nilaiTugas:\n",
    "    selisih = selisih + [n-rata]\n",
    "    \n",
    "for n in selisih:\n",
    "    selisih2 = selisih2 + [n**2]\n",
    "    \n",
    "for n in selisih2:\n",
    "    totalSelisih2 = totalSelisih2 + n\n",
    "    \n",
    "variance = totalSelisih2/len(nilaiTugas)\n",
    "\n",
    "# Menghitung standar deviasi\n",
    "stdDev = math.sqrt(variance)\n",
    "print(stdDev)"
   ]
  },
  {
   "cell_type": "code",
   "execution_count": 7,
   "metadata": {},
   "outputs": [
    {
     "name": "stdout",
     "output_type": "stream",
     "text": [
      "1\n",
      "99\n"
     ]
    }
   ],
   "source": [
    "# Menampilkan nilai maksimum dan minimum\n",
    "\n",
    "nilaiMin = 100\n",
    "nilaiMax = 0\n",
    "\n",
    "for n in nilaiTugas:\n",
    "    if n < nilaiMin:\n",
    "        nilaiMin = n\n",
    "        \n",
    "for n in nilaiTugas:\n",
    "    if n > nilaiMax:\n",
    "        nilaiMax = n\n",
    "        \n",
    "print(nilaiMin)\n",
    "print(nilaiMax)"
   ]
  },
  {
   "cell_type": "code",
   "execution_count": 8,
   "metadata": {
    "scrolled": true
   },
   "outputs": [
    {
     "name": "stdout",
     "output_type": "stream",
     "text": [
      "14\n"
     ]
    }
   ],
   "source": [
    "# Menampilkan modus\n",
    "\n",
    "collection = []\n",
    "freq = {}\n",
    "\n",
    "for n in nilaiTugas:\n",
    "    if n not in collection:\n",
    "        collection = collection + [n]\n",
    "        \n",
    "for n in collection:\n",
    "    x = 0\n",
    "    for m in nilaiTugas:\n",
    "        if n == m:\n",
    "            x = x + 1\n",
    "    freq[n] = x\n",
    "\n",
    "mode = 0\n",
    "x = 0\n",
    "# print(freq.items())\n",
    "for k,v in freq.items():\n",
    "    if v > x:\n",
    "        x = v\n",
    "        mode = k\n",
    "\n",
    "print(mode)"
   ]
  }
 ],
 "metadata": {
  "kernelspec": {
   "display_name": "Python 3",
   "language": "python",
   "name": "python3"
  },
  "language_info": {
   "codemirror_mode": {
    "name": "ipython",
    "version": 3
   },
   "file_extension": ".py",
   "mimetype": "text/x-python",
   "name": "python",
   "nbconvert_exporter": "python",
   "pygments_lexer": "ipython3",
   "version": "3.7.0"
  }
 },
 "nbformat": 4,
 "nbformat_minor": 2
}
